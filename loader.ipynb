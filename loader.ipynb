{
 "cells": [
  {
   "cell_type": "code",
   "execution_count": 0,
   "metadata": {
    "application/vnd.databricks.v1+cell": {
     "cellMetadata": {
      "byteLimit": 2048000,
      "rowLimit": 10000
     },
     "inputWidgets": {},
     "nuid": "ab6ba0ac-6a2b-4968-86fa-1aa791f6543f",
     "showTitle": false,
     "tableResultSettingsMap": {},
     "title": ""
    }
   },
   "outputs": [],
   "source": [
    "%run \"./loader_factory\""
   ]
  },
  {
   "cell_type": "code",
   "execution_count": 0,
   "metadata": {
    "application/vnd.databricks.v1+cell": {
     "cellMetadata": {
      "byteLimit": 2048000,
      "rowLimit": 10000
     },
     "inputWidgets": {},
     "nuid": "1d84e331-fac0-49db-9756-453e95955eb7",
     "showTitle": false,
     "tableResultSettingsMap": {},
     "title": ""
    }
   },
   "outputs": [],
   "source": [
    "class AbstractLoader:\n",
    "      def __init__(self,transformedDF):\n",
    "          self.transformedDF = transformedDF\n",
    "      \n",
    "      def sink(self,firstTransform):\n",
    "          pass\n",
    "      \n",
    "class AirPodsAfterIphoneLoader(AbstractLoader):\n",
    "\n",
    "      def sink(self):\n",
    "          get_sink_source(\n",
    "              sink_type = \"dbfs\",\n",
    "              df = self.transformedDF,\n",
    "              path = \"dbfs:/FileStore/tables\",\n",
    "              method = \"overwrite\"\n",
    "              \n",
    "          ).load_data_frame()\n",
    "          \n",
    "          \n"
   ]
  }
 ],
 "metadata": {
  "application/vnd.databricks.v1+notebook": {
   "dashboards": [],
   "environmentMetadata": null,
   "language": "python",
   "notebookMetadata": {
    "pythonIndentUnit": 4
   },
   "notebookName": "loader",
   "widgets": {}
  }
 },
 "nbformat": 4,
 "nbformat_minor": 0
}
