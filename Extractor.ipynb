{
 "cells": [
  {
   "cell_type": "code",
   "execution_count": 0,
   "metadata": {
    "application/vnd.databricks.v1+cell": {
     "cellMetadata": {
      "byteLimit": 2048000,
      "rowLimit": 10000
     },
     "inputWidgets": {},
     "nuid": "8b375215-670d-4e87-a477-03767c0abd4c",
     "showTitle": false,
     "tableResultSettingsMap": {},
     "title": ""
    }
   },
   "outputs": [],
   "source": [
    "%run \"./ReaderFactory\""
   ]
  },
  {
   "cell_type": "code",
   "execution_count": 0,
   "metadata": {
    "application/vnd.databricks.v1+cell": {
     "cellMetadata": {
      "byteLimit": 2048000,
      "rowLimit": 10000
     },
     "inputWidgets": {},
     "nuid": "8e1bc42d-8bfe-4f3c-98fc-fe46683af41c",
     "showTitle": false,
     "tableResultSettingsMap": {},
     "title": ""
    }
   },
   "outputs": [],
   "source": [
    "class Extractor:\n",
    "    \"\"\"\n",
    "    Abstract class\n",
    "    \"\"\"\n",
    "    def __init__(self):\n",
    "        pass\n",
    "\n",
    "    def extract(self):\n",
    "        pass\n",
    "     \n",
    "class AirpodsAfterIphoneExtractor(Extractor):\n",
    "    \"\"\"Extracting the data\"\"\"\n",
    "    def extract(self):\n",
    "        transactionInputDF = get_data_source(\n",
    "            data_type=\"csv\",\n",
    "            file_path=\"dbfs:/FileStore/tables/Transaction_Updated.csv\"\n",
    "        ).get_data_frame()\n",
    "\n",
    "        # Display the DataFrame ordered by customer_id and transaction_date\n",
    "        transactionInputDF.orderBy(\"customer_id\", \"transaction_date\").show()\n",
    "\n",
    "        customerInputDF = get_data_source(\n",
    "            data_type=\"delta\",\n",
    "            file_path=\"default.customer_delta_persist\"\n",
    "        ).get_data_frame()\n",
    "\n",
    "        inputDFs = {\n",
    "            \"transactionInputDF\": transactionInputDF,\n",
    "            \"customerInputDF\": customerInputDF\n",
    "        }\n",
    "\n",
    "        return inputDFs\n"
   ]
  },
  {
   "cell_type": "code",
   "execution_count": 0,
   "metadata": {
    "application/vnd.databricks.v1+cell": {
     "cellMetadata": {
      "byteLimit": 2048000,
      "rowLimit": 10000
     },
     "inputWidgets": {},
     "nuid": "374a94f7-c43c-4b0d-8ea2-c2480822f110",
     "showTitle": false,
     "tableResultSettingsMap": {},
     "title": ""
    }
   },
   "outputs": [],
   "source": [
    "# class Extractor:\n",
    "#     \"\"\"\n",
    "#     Abstract class\n",
    "#     \"\"\"\n",
    "#      def __init__(self):\n",
    "#          pass\n",
    "#      def extract(self):\n",
    "#          pass\n",
    "     \n",
    "# class AirpodsAfterIphoneExtractor(Extractor):\n",
    "#     \" Extracting the data\"\n",
    "#     def extract(self):\n",
    "        \n",
    "#         transactionInputDF = get_data_source(\n",
    "#             data_type=\"csv\",\n",
    "#             file_path=\"dbfs:/FileStore/tables/Transaction_Updated.csv\"\n",
    "#         ).get_data_frame()\n",
    "\n",
    "#         # Display the DataFrame ordered by customer_id and transaction_date\n",
    "#         transactionInputDF.orderBy(\"customer_id\", \"transaction_date\").show()\n",
    "\n",
    "\n",
    "#         customerInputDF = get_data_source(\n",
    "#             data_type=\"delta\",\n",
    "#             file_path=\"default.customer_delta_persist\"\n",
    "#         ).get_data_frame()\n",
    "\n",
    "#         inputDFs = {\n",
    "#             \"transactionInputDF\": transactionInputDF,\n",
    "#             \"customerInputDF\":customerInputDF\n",
    "#         }\n",
    "\n",
    "#         return inputDFs\n",
    "\n"
   ]
  }
 ],
 "metadata": {
  "application/vnd.databricks.v1+notebook": {
   "dashboards": [],
   "environmentMetadata": null,
   "language": "python",
   "notebookMetadata": {
    "pythonIndentUnit": 4
   },
   "notebookName": "Extractor",
   "widgets": {}
  }
 },
 "nbformat": 4,
 "nbformat_minor": 0
}
