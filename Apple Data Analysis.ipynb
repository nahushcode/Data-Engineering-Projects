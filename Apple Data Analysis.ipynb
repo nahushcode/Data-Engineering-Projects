{
 "cells": [
  {
   "cell_type": "code",
   "execution_count": 0,
   "metadata": {
    "application/vnd.databricks.v1+cell": {
     "cellMetadata": {
      "byteLimit": 2048000,
      "rowLimit": 10000
     },
     "inputWidgets": {},
     "nuid": "c9dab3ce-71da-4d5c-aae8-0b8348ea6d9f",
     "showTitle": false,
     "tableResultSettingsMap": {},
     "title": ""
    }
   },
   "outputs": [],
   "source": [
    "# %run \"./ReaderFactory\""
   ]
  },
  {
   "cell_type": "code",
   "execution_count": 0,
   "metadata": {
    "application/vnd.databricks.v1+cell": {
     "cellMetadata": {
      "byteLimit": 2048000,
      "rowLimit": 10000
     },
     "inputWidgets": {},
     "nuid": "60013750-4b46-47de-9e08-86bfefb526f1",
     "showTitle": false,
     "tableResultSettingsMap": {},
     "title": ""
    }
   },
   "outputs": [],
   "source": [
    "%run \"./loader\""
   ]
  },
  {
   "cell_type": "code",
   "execution_count": 0,
   "metadata": {
    "application/vnd.databricks.v1+cell": {
     "cellMetadata": {
      "byteLimit": 2048000,
      "rowLimit": 10000
     },
     "inputWidgets": {},
     "nuid": "97c9f2fa-2e3d-4d16-9391-b16133af8e7a",
     "showTitle": false,
     "tableResultSettingsMap": {},
     "title": ""
    }
   },
   "outputs": [],
   "source": [
    "%run \"./transform\""
   ]
  },
  {
   "cell_type": "code",
   "execution_count": 0,
   "metadata": {
    "application/vnd.databricks.v1+cell": {
     "cellMetadata": {
      "byteLimit": 2048000,
      "rowLimit": 10000
     },
     "inputWidgets": {},
     "nuid": "c0b9b7c8-aba0-4cb4-9050-89eb55ae84af",
     "showTitle": false,
     "tableResultSettingsMap": {},
     "title": ""
    }
   },
   "outputs": [],
   "source": [
    "%run \"./Extractor\""
   ]
  },
  {
   "cell_type": "code",
   "execution_count": 0,
   "metadata": {
    "application/vnd.databricks.v1+cell": {
     "cellMetadata": {
      "byteLimit": 2048000,
      "rowLimit": 10000
     },
     "inputWidgets": {},
     "nuid": "3f50c576-d763-4eb4-ba8e-baa18a468b1b",
     "showTitle": false,
     "tableResultSettingsMap": {},
     "title": ""
    }
   },
   "outputs": [
    {
     "output_type": "stream",
     "name": "stdout",
     "output_type": "stream",
     "text": [
      "+--------------+-----------+------------+----------------+\n|transaction_id|customer_id|product_name|transaction_date|\n+--------------+-----------+------------+----------------+\n|            11|        105|      iPhone|      2022-02-01|\n|            14|        105|     AirPods|      2022-02-04|\n|            18|        105|     MacBook|      2022-02-08|\n|            12|        106|      iPhone|      2022-02-02|\n|            16|        106|     MacBook|      2022-02-06|\n|            20|        106|     AirPods|      2022-02-10|\n|            13|        107|     AirPods|      2022-02-03|\n|            17|        107|      iPhone|      2022-02-07|\n|            15|        108|      iPhone|      2022-02-05|\n|            19|        108|     AirPods|      2022-02-09|\n+--------------+-----------+------------+----------------+\n\ntransactionInputDF in transform:\n+--------------+-----------+------------+----------------+\n|transaction_id|customer_id|product_name|transaction_date|\n+--------------+-----------+------------+----------------+\n|            11|        105|      iPhone|      2022-02-01|\n|            12|        106|      iPhone|      2022-02-02|\n|            13|        107|     AirPods|      2022-02-03|\n|            14|        105|     AirPods|      2022-02-04|\n|            15|        108|      iPhone|      2022-02-05|\n|            16|        106|     MacBook|      2022-02-06|\n|            17|        107|      iPhone|      2022-02-07|\n|            18|        105|     MacBook|      2022-02-08|\n|            19|        108|     AirPods|      2022-02-09|\n|            20|        106|     AirPods|      2022-02-10|\n+--------------+-----------+------------+----------------+\n\nAirPods after buying iPhone:\n+--------------+-----------+------------+----------------+------------+\n|transaction_id|customer_id|product_name|transaction_date|next_product|\n+--------------+-----------+------------+----------------+------------+\n|            11|        105|      iPhone|      2022-02-01|     AirPods|\n|            14|        105|     AirPods|      2022-02-04|     MacBook|\n|            18|        105|     MacBook|      2022-02-08|        null|\n|            12|        106|      iPhone|      2022-02-02|     MacBook|\n|            16|        106|     MacBook|      2022-02-06|     AirPods|\n|            20|        106|     AirPods|      2022-02-10|        null|\n|            13|        107|     AirPods|      2022-02-03|      iPhone|\n|            17|        107|      iPhone|      2022-02-07|        null|\n|            15|        108|      iPhone|      2022-02-05|     AirPods|\n|            19|        108|     AirPods|      2022-02-09|        null|\n+--------------+-----------+------------+----------------+------------+\n\nFiltered DataFrame (AirPods after iPhone):\n+--------------+-----------+------------+----------------+------------+\n|transaction_id|customer_id|product_name|transaction_date|next_product|\n+--------------+-----------+------------+----------------+------------+\n|            11|        105|      iPhone|      2022-02-01|     AirPods|\n|            15|        108|      iPhone|      2022-02-05|     AirPods|\n+--------------+-----------+------------+----------------+------------+\n\ncustomerInputDF in transform:\n+-----------+-------------+-------------------+--------+\n|customer_id|customer_name|          join_date|location|\n+-----------+-------------+-------------------+--------+\n|        105|          Eva|2022-01-01 00:00:00|    Ohio|\n|        106|        Frank|2022-02-01 00:00:00|  Nevada|\n|        107|        Grace|2022-03-01 00:00:00|Colorado|\n|        108|        Henry|2022-04-01 00:00:00|    Utah|\n+-----------+-------------+-------------------+--------+\n\nJoined DataFrame:\n+-----------+-------------+--------+\n|customer_id|customer_name|location|\n+-----------+-------------+--------+\n|        105|          Eva|    Ohio|\n|        108|        Henry|    Utah|\n+-----------+-------------+--------+\n\n"
     ]
    }
   ],
   "source": [
    "class WorkFlow:         # working on  transformer extractor load \n",
    "    def __init__(self):\n",
    "        pass\n",
    "\n",
    "    def runner(self):\n",
    "        # Extract data from different sources \n",
    "        inputDFs = AirpodsAfterIphoneExtractor().extract()\n",
    "        # Performing the transformation logic on the datasets\n",
    "        firstTransform = FirstTransformer().transform(\n",
    "            inputDFs\n",
    "        )\n",
    "         # Required all data from different sink \n",
    "\n",
    "        AirPodsAfterIphoneLoader(firstTransform).sink()\n",
    "\n",
    "workflow = WorkFlow().runner()"
   ]
  },
  {
   "cell_type": "code",
   "execution_count": 0,
   "metadata": {
    "application/vnd.databricks.v1+cell": {
     "cellMetadata": {
      "byteLimit": 2048000,
      "rowLimit": 10000
     },
     "collapsed": true,
     "inputWidgets": {},
     "nuid": "71b2ba70-8868-490b-82a2-006e6119b25f",
     "showTitle": false,
     "tableResultSettingsMap": {},
     "title": ""
    }
   },
   "outputs": [],
   "source": [
    "# class WorkFlow:               Corrected code for CSV \n",
    "#     def __init__(self):\n",
    "#         pass\n",
    "\n",
    "#     def runner(self):\n",
    "#         transactionInputDF = get_data_source(\n",
    "#             data_type=\"csv\",\n",
    "#             file_path=\"dbfs:/FileStore/tables/Transaction_Updated.csv\"\n",
    "#         ).get_data_frame()\n",
    "\n",
    "#         # Display the DataFrame ordered by customer_id and transaction_date\n",
    "#         transactionInputDF.orderBy(\"customer_id\", \"transaction_date\").show()\n",
    "\n",
    "#         inputDFs = {\n",
    "#             \"transactionInputDF\": transactionInputDF\n",
    "#         }\n",
    "\n",
    "#         # Apply transformation to find customers who bought AirPods after buying an iPhone\n",
    "#         firstTransform = FirstTransformer().transform(\n",
    "#             inputDFs\n",
    "#         )\n",
    "\n",
    "\n",
    "# workflow = WorkFlow().runner()\n"
   ]
  },
  {
   "cell_type": "code",
   "execution_count": 0,
   "metadata": {
    "application/vnd.databricks.v1+cell": {
     "cellMetadata": {
      "byteLimit": 2048000,
      "rowLimit": 10000
     },
     "inputWidgets": {},
     "nuid": "a2823cfe-4358-49dd-815f-c6144257aa0a",
     "showTitle": false,
     "tableResultSettingsMap": {},
     "title": ""
    }
   },
   "outputs": [],
   "source": [
    "# class WorkFlow:         # working on extractor notebook\n",
    "#     def __init__(self):\n",
    "#         pass\n",
    "\n",
    "#     def runner(self):\n",
    "#         # Extract data from different sources \n",
    "#         inputDFs = AirpodsAfterIphoneExtractor().extract()\n",
    "#         # Performing the transformation logic on the datasets\n",
    "#         firstTransform = FirstTransformer().transform(\n",
    "#             inputDFs\n",
    "#         )\n",
    "\n",
    "\n",
    "# workflow = WorkFlow().runner()\n"
   ]
  },
  {
   "cell_type": "code",
   "execution_count": 0,
   "metadata": {
    "application/vnd.databricks.v1+cell": {
     "cellMetadata": {
      "byteLimit": 2048000,
      "rowLimit": 10000
     },
     "inputWidgets": {},
     "nuid": "434dfe58-ee56-4a11-bc54-450ef95c2684",
     "showTitle": true,
     "tableResultSettingsMap": {},
     "title": "ran"
    }
   },
   "outputs": [],
   "source": [
    "# class WorkFlow:         # Code for delta\n",
    "#     def __init__(self):\n",
    "#         pass\n",
    "\n",
    "#     def runner(self):\n",
    "#         transactionInputDF = get_data_source(\n",
    "#             data_type=\"csv\",\n",
    "#             file_path=\"dbfs:/FileStore/tables/Transaction_Updated.csv\"\n",
    "#         ).get_data_frame()\n",
    "\n",
    "#         # Display the DataFrame ordered by customer_id and transaction_date\n",
    "#         transactionInputDF.orderBy(\"customer_id\", \"transaction_date\").show()\n",
    "\n",
    "\n",
    "#         customerInputDF = get_data_source(\n",
    "#             data_type=\"delta\",\n",
    "#             file_path=\"default.customer_delta_persist\"\n",
    "#         ).get_data_frame()\n",
    "\n",
    "#         inputDFs = {\n",
    "#             \"transactionInputDF\": transactionInputDF,\n",
    "#             \"customerInputDF\":customerInputDF\n",
    "#         }\n",
    "\n",
    "#         # \n",
    "#         firstTransform = FirstTransformer().transform(\n",
    "#             inputDFs\n",
    "#         )\n",
    "\n",
    "\n",
    "# workflow = WorkFlow().runner()\n"
   ]
  },
  {
   "cell_type": "code",
   "execution_count": 0,
   "metadata": {
    "application/vnd.databricks.v1+cell": {
     "cellMetadata": {
      "byteLimit": 2048000,
      "rowLimit": 10000
     },
     "inputWidgets": {},
     "nuid": "43595303-7bf8-48fa-a2f7-bfbd35b548e9",
     "showTitle": false,
     "tableResultSettingsMap": {},
     "title": ""
    }
   },
   "outputs": [],
   "source": [
    "# class WorkFlow:\n",
    "#       def __init__(self):\n",
    "#             pass\n",
    "#       def runner(self):\n",
    "          \n",
    "#           transactionInputDF = get_data_source(\n",
    "#                 data_type =  \"csv\",\n",
    "#                 file_path =  \"dbfs:/FileStore/tables/Transaction_Updated.csv\"\n",
    "              \n",
    "#           ).get_data_frame()\n",
    "\n",
    "#           #transactionInputDF.show()\n",
    "#            transactionInputDF.orderBy(\"customer_id\",\"transaction_date\").show()\n",
    "\n",
    "#            inputDFs = {\n",
    "                 \n",
    "#                  \"transactionInputDF\":transactionInputDF\n",
    "#            }\n",
    "\n",
    "#           # customer who have bought Airpods after buying the iphone \n",
    "#           firstTransform = FirstTransformer().transform(\n",
    "#                 inputDFs\n",
    "                \n",
    "#           )\n",
    "\n",
    "\n",
    "# workflow = WorkFlow().runner()\n",
    "\n",
    "\n",
    "# # Lead --> Partition by : customer id and order by trasaction date\n",
    "# # attribute name : Next Purchase \n",
    "\n"
   ]
  },
  {
   "cell_type": "code",
   "execution_count": 0,
   "metadata": {
    "application/vnd.databricks.v1+cell": {
     "cellMetadata": {
      "byteLimit": 2048000,
      "rowLimit": 10000
     },
     "inputWidgets": {},
     "nuid": "c4babb58-341d-4a38-a6bf-856663e2e815",
     "showTitle": false,
     "tableResultSettingsMap": {},
     "title": ""
    }
   },
   "outputs": [
    {
     "output_type": "stream",
     "name": "stdout",
     "output_type": "stream",
     "text": [
      "+--------------+-----------+------------+----------------+\n|transaction_id|customer_id|product_name|transaction_date|\n+--------------+-----------+------------+----------------+\n|            11|        105|      iPhone|      2022-02-01|\n|            12|        106|      iPhone|      2022-02-02|\n|            13|        107|     AirPods|      2022-02-03|\n|            14|        105|     AirPods|      2022-02-04|\n|            15|        108|      iPhone|      2022-02-05|\n|            16|        106|     MacBook|      2022-02-06|\n|            17|        107|      iPhone|      2022-02-07|\n|            18|        105|     MacBook|      2022-02-08|\n|            19|        108|     AirPods|      2022-02-09|\n|            20|        106|     AirPods|      2022-02-10|\n+--------------+-----------+------------+----------------+\n\n"
     ]
    }
   ],
   "source": [
    "from pyspark.sql import SparkSession\n",
    "\n",
    "# Initialize the SparkSession\n",
    "spark = SparkSession.builder.appName(\"TheBigDataShow\").getOrCreate()\n",
    "\n",
    "# Read the CSV file into a DataFrame\n",
    "input_df = spark.read.format(\"csv\").option(\"header\", \"true\").load(\"dbfs:/FileStore/tables/Transaction_Updated.csv\")\n",
    "\n",
    "# Display the DataFrame\n",
    "input_df.show()\n"
   ]
  },
  {
   "cell_type": "code",
   "execution_count": 0,
   "metadata": {
    "application/vnd.databricks.v1+cell": {
     "cellMetadata": {
      "byteLimit": 2048000,
      "rowLimit": 10000
     },
     "inputWidgets": {},
     "nuid": "893df288-2f57-42a4-bdde-17e7401560bc",
     "showTitle": false,
     "tableResultSettingsMap": {},
     "title": ""
    }
   },
   "outputs": [],
   "source": []
  },
  {
   "cell_type": "code",
   "execution_count": 0,
   "metadata": {
    "application/vnd.databricks.v1+cell": {
     "cellMetadata": {
      "byteLimit": 2048000,
      "rowLimit": 10000
     },
     "inputWidgets": {},
     "nuid": "19490ff5-d1cd-4823-8958-bd1f27248010",
     "showTitle": false,
     "tableResultSettingsMap": {},
     "title": ""
    }
   },
   "outputs": [],
   "source": []
  },
  {
   "cell_type": "code",
   "execution_count": 0,
   "metadata": {
    "application/vnd.databricks.v1+cell": {
     "cellMetadata": {
      "byteLimit": 2048000,
      "rowLimit": 10000
     },
     "inputWidgets": {},
     "nuid": "be7329f0-a7f7-418f-8a6c-a9d224d519a9",
     "showTitle": false,
     "tableResultSettingsMap": {},
     "title": ""
    }
   },
   "outputs": [],
   "source": []
  },
  {
   "cell_type": "code",
   "execution_count": 0,
   "metadata": {
    "application/vnd.databricks.v1+cell": {
     "cellMetadata": {
      "byteLimit": 2048000,
      "rowLimit": 10000
     },
     "inputWidgets": {},
     "nuid": "962036b6-c09b-4c75-aa56-3a862414197a",
     "showTitle": false,
     "tableResultSettingsMap": {},
     "title": ""
    }
   },
   "outputs": [],
   "source": []
  },
  {
   "cell_type": "code",
   "execution_count": 0,
   "metadata": {
    "application/vnd.databricks.v1+cell": {
     "cellMetadata": {
      "byteLimit": 2048000,
      "rowLimit": 10000
     },
     "inputWidgets": {},
     "nuid": "40737026-280d-4301-84df-cc68a551e4b6",
     "showTitle": false,
     "tableResultSettingsMap": {},
     "title": ""
    }
   },
   "outputs": [],
   "source": []
  }
 ],
 "metadata": {
  "application/vnd.databricks.v1+notebook": {
   "dashboards": [],
   "environmentMetadata": null,
   "language": "python",
   "notebookMetadata": {
    "pythonIndentUnit": 4
   },
   "notebookName": "Apple Data Analysis",
   "widgets": {}
  }
 },
 "nbformat": 4,
 "nbformat_minor": 0
}
